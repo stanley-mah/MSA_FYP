{
 "cells": [
  {
   "cell_type": "markdown",
   "id": "54b7b882",
   "metadata": {},
   "source": [
    "# 1. Cleaning and preparing data:\n",
    "   a. Clean the data of errors and inconsistencies.\n",
    "   b. Deal with missing values and outliers.\n",
    "   c. Transform the data into a format suitable for analysis and processing..\n"
   ]
  },
  {
   "cell_type": "code",
   "execution_count": null,
   "id": "7b4d4b0e",
   "metadata": {},
   "outputs": [],
   "source": [
    "import pandas as pd\n",
    "import numpy as np\n",
    "\n",
    "train_data = pd.read_csv('/mnt/data/train_data.csv')\n",
    "test_data = pd.read_csv('/mnt/data/test_data.csv')\n",
    "test_data_hidden = pd.read_csv('/mnt/data/test_data_hidden.csv')\n",
    "\n",
    "print(train_data.head())\n",
    "print(test_data.head())\n",
    "print(test_data_hidden.head())\n",
    "\n",
    "# filling missing values with a placeholder for all columns\n",
    "train_data.fillna(\"Unknown\", inplace=True)\n",
    "test_data.fillna(\"Unknown\", inplace=True)\n",
    "test_data_hidden.fillna(\"Unknown\", inplace=True)\n",
    "\n",
    "# converting 'reviews.date' to datetime format\n",
    "train_data['reviews.date'] = pd.to_datetime(train_data['reviews.date'], errors='coerce')\n",
    "test_data['reviews.date'] = pd.to_datetime(test_data['reviews.date'], errors='coerce')\n",
    "test_data_hidden['reviews.date'] = pd.to_datetime(test_data_hidden['reviews.date'], errors='coerce')\n",
    "\n",
    "# checking for data type inconsistencies \n",
    "print(train_data.info())\n",
    "print(test_data.info())\n",
    "print(test_data_hidden.info())\n",
    "\n",
    "# saving the cleaned data\n",
    "train_data.to_csv('/mnt/data/train_data_cleaned.csv', index=False)\n",
    "test_data.to_csv('/mnt/data/test_data_cleaned.csv', index=False)\n",
    "test_data_hidden.to_csv('/mnt/data/test_data_hidden_cleaned.csv', index=False)\n"
   ]
  }
 ],
 "metadata": {
  "kernelspec": {
   "display_name": "Python 3 (ipykernel)",
   "language": "python",
   "name": "python3"
  },
  "language_info": {
   "codemirror_mode": {
    "name": "ipython",
    "version": 3
   },
   "file_extension": ".py",
   "mimetype": "text/x-python",
   "name": "python",
   "nbconvert_exporter": "python",
   "pygments_lexer": "ipython3",
   "version": "3.12.4"
  }
 },
 "nbformat": 4,
 "nbformat_minor": 5
}
